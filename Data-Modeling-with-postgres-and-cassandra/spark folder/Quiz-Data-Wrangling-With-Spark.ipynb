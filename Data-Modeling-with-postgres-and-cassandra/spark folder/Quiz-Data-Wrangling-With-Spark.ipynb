{
 "cells": [
  {
   "cell_type": "markdown",
   "metadata": {},
   "source": [
    "## QUIZ"
   ]
  },
  {
   "cell_type": "code",
   "execution_count": 1,
   "metadata": {},
   "outputs": [],
   "source": [
    "from pyspark.sql import SparkSession\n",
    "from pyspark.sql.functions import udf\n",
    "from pyspark.sql.types import StringType, IntegerType\n",
    "from pyspark.sql.functions import desc, asc, sum as Fsum"
   ]
  },
  {
   "cell_type": "code",
   "execution_count": 2,
   "metadata": {},
   "outputs": [],
   "source": [
    "import datetime\n",
    "import numpy as np\n",
    "import pandas as pd\n",
    "%matplotlib inline\n",
    "import matplotlib.pyplot as plt"
   ]
  },
  {
   "cell_type": "code",
   "execution_count": 3,
   "metadata": {},
   "outputs": [],
   "source": [
    "spark = SparkSession.builder.appName(\"Quiz on Wrangling data\").getOrCreate()"
   ]
  },
  {
   "cell_type": "code",
   "execution_count": 4,
   "metadata": {},
   "outputs": [],
   "source": [
    "path = \"file:/home/workspace/data/sparkify_log_small.json\"\n",
    "user_log = spark.read.json(path)"
   ]
  },
  {
   "cell_type": "markdown",
   "metadata": {},
   "source": [
    "### QUESTION 1\n",
    "`Which page did user id \"\" (empty string) NOT visit?`"
   ]
  },
  {
   "cell_type": "code",
   "execution_count": 5,
   "metadata": {},
   "outputs": [
    {
     "name": "stdout",
     "output_type": "stream",
     "text": [
      "Pages UserId  did not visit: \n",
      "\n",
      "NextSong\n",
      "Error\n",
      "Save Settings\n",
      "Downgrade\n",
      "Upgrade\n",
      "Settings\n",
      "Logout\n",
      "Submit Upgrade\n",
      "Submit Downgrade\n"
     ]
    }
   ],
   "source": [
    "blank_pages = user_log.select(\"page\").where(\"userId = ''\").dropDuplicates()\n",
    "all_pages = user_log.select(\"page\").dropDuplicates()\n",
    "\n",
    "print(\"Pages UserId \"\" did not visit: \\n\")\n",
    "for row in (set(all_pages.collect()) - set(blank_pages.collect())):\n",
    "    print(row.page)"
   ]
  },
  {
   "cell_type": "code",
   "execution_count": 6,
   "metadata": {},
   "outputs": [
    {
     "name": "stdout",
     "output_type": "stream",
     "text": [
      "+-----+\n",
      "| page|\n",
      "+-----+\n",
      "| Home|\n",
      "|About|\n",
      "|Login|\n",
      "| Help|\n",
      "+-----+\n",
      "\n"
     ]
    }
   ],
   "source": [
    "blank_pages.show()"
   ]
  },
  {
   "cell_type": "code",
   "execution_count": 7,
   "metadata": {},
   "outputs": [
    {
     "data": {
      "text/plain": [
       "[Row(artist='Showaddywaddy', auth='Logged In', firstName='Kenneth', gender='M', itemInSession=112, lastName='Matthews', length=232.93342, level='paid', location='Charlotte-Concord-Gastonia, NC-SC', method='PUT', page='NextSong', registration=1509380319284, sessionId=5132, song='Christmas Tears Will Fall', status=200, ts=1513720872284, userAgent='\"Mozilla/5.0 (Windows NT 6.1) AppleWebKit/537.36 (KHTML, like Gecko) Chrome/36.0.1985.125 Safari/537.36\"', userId='1046')]"
      ]
     },
     "execution_count": 7,
     "metadata": {},
     "output_type": "execute_result"
    }
   ],
   "source": [
    "user_log.take(1)"
   ]
  },
  {
   "cell_type": "markdown",
   "metadata": {},
   "source": [
    "### QUESTION 2\n",
    "`How many female users do we have in the data set?`"
   ]
  },
  {
   "cell_type": "code",
   "execution_count": 8,
   "metadata": {},
   "outputs": [
    {
     "data": {
      "text/plain": [
       "462"
      ]
     },
     "execution_count": 8,
     "metadata": {},
     "output_type": "execute_result"
    }
   ],
   "source": [
    "# First method\n",
    "user_log.select(\"userId\").where(\"gender = 'F'\").dropDuplicates().count()"
   ]
  },
  {
   "cell_type": "code",
   "execution_count": 9,
   "metadata": {},
   "outputs": [
    {
     "data": {
      "text/plain": [
       "462"
      ]
     },
     "execution_count": 9,
     "metadata": {},
     "output_type": "execute_result"
    }
   ],
   "source": [
    "user_log.filter(user_log.gender == 'F') \\\n",
    "    .select('userId', 'gender') \\\n",
    "    .dropDuplicates() \\\n",
    "    .count()"
   ]
  },
  {
   "cell_type": "markdown",
   "metadata": {},
   "source": [
    "### QUESTION 3\n",
    "`How many songs were played from the most played artist?`"
   ]
  },
  {
   "cell_type": "code",
   "execution_count": 10,
   "metadata": {},
   "outputs": [
    {
     "name": "stdout",
     "output_type": "stream",
     "text": [
      "+--------+-----+\n",
      "|  artist|count|\n",
      "+--------+-----+\n",
      "|Coldplay|   83|\n",
      "+--------+-----+\n",
      "only showing top 1 row\n",
      "\n"
     ]
    }
   ],
   "source": [
    "# First method\n",
    "user_log.filter(user_log.artist != \"\") \\\n",
    "        .groupBy(\"artist\") \\\n",
    "        .count() \\\n",
    "        .orderBy(\"count\", ascending=0) \\\n",
    "        .show(1)"
   ]
  },
  {
   "cell_type": "code",
   "execution_count": 11,
   "metadata": {},
   "outputs": [
    {
     "name": "stdout",
     "output_type": "stream",
     "text": [
      "+--------+------------+\n",
      "|  artist|artist_count|\n",
      "+--------+------------+\n",
      "|Coldplay|          83|\n",
      "+--------+------------+\n",
      "only showing top 1 row\n",
      "\n"
     ]
    }
   ],
   "source": [
    "# second method\n",
    "user_log.filter(user_log.page == 'NextSong') \\\n",
    "    .select('artist') \\\n",
    "    .groupBy('artist') \\\n",
    "    .agg({'artist':'count'}) \\\n",
    "    .withColumnRenamed('count(artist)', 'artist_count') \\\n",
    "    .orderBy(\"artist_count\", ascending=0) \\\n",
    "    .show(1)"
   ]
  },
  {
   "cell_type": "markdown",
   "metadata": {},
   "source": [
    "### QUESTION 4\n",
    "`How many songs do users listen to on average between visiting our home page? Please round your answer to the closest integer.`"
   ]
  },
  {
   "cell_type": "code",
   "execution_count": 12,
   "metadata": {},
   "outputs": [],
   "source": [
    "from pyspark.sql.window import Window"
   ]
  },
  {
   "cell_type": "code",
   "execution_count": 13,
   "metadata": {},
   "outputs": [
    {
     "name": "stdout",
     "output_type": "stream",
     "text": [
      "+-----------------------------------------------------+\n",
      "|average_song_played_after_visiting_home_page_per_user|\n",
      "+-----------------------------------------------------+\n",
      "|                                    6.898347107438017|\n",
      "+-----------------------------------------------------+\n",
      "\n"
     ]
    }
   ],
   "source": [
    "function = udf(lambda ishome : int(ishome == 'Home'), IntegerType())\n",
    "\n",
    "user_window = Window \\\n",
    "    .partitionBy(\"userId\") \\\n",
    "    .orderBy(desc(\"ts\")) \\\n",
    "    .rangeBetween(Window.unboundedPreceding, Window.currentRow)\n",
    "\n",
    "cumsum = user_log.filter((user_log.page == 'NextSong') | (user_log.page == 'Home')) \\\n",
    "                .select('userID', 'page', 'ts') \\\n",
    "                .withColumn('homevisit', function(\"page\")) \\\n",
    "                .withColumn('period', Fsum('homevisit').over(user_window)) \\\n",
    "\n",
    "cumsum.filter((cumsum.page == 'NextSong')) \\\n",
    "     .groupBy('userID', 'period') \\\n",
    "     .agg({'period':'count'}) \\\n",
    "     .agg({'count(period)':'avg'}) \\\n",
    "     .withColumnRenamed('avg(count(period))', \"average_song_played_after_visiting_home_page_per_user\").show()"
   ]
  },
  {
   "cell_type": "code",
   "execution_count": 14,
   "metadata": {},
   "outputs": [],
   "source": [
    "# # To use SQL, we create a temp view\n",
    "# user_log.createTempView(\"user_log_view\")\n",
    "\n",
    "# spark.sql(\"\"\"\n",
    "# SELECT COUNT(songs)\n",
    "# FROM user_log_view\n",
    "# WHERE userId IS NOT NULL AND page = \"Home\"\n",
    "# \"\"\");"
   ]
  },
  {
   "cell_type": "code",
   "execution_count": 15,
   "metadata": {},
   "outputs": [],
   "source": [
    "# df.filter((df.page == 'NextSong') | (df.page == 'Home')) \\\n",
    "#     .select('userID', 'page', 'ts') \\\n",
    "#     .withColumn('homevisit', function(col('page'))) \\\n",
    "#     .withColumn('period', Fsum(\"homevisit\").over())"
   ]
  }
 ],
 "metadata": {
  "kernelspec": {
   "display_name": "Python 3",
   "language": "python",
   "name": "python3"
  },
  "language_info": {
   "codemirror_mode": {
    "name": "ipython",
    "version": 3
   },
   "file_extension": ".py",
   "mimetype": "text/x-python",
   "name": "python",
   "nbconvert_exporter": "python",
   "pygments_lexer": "ipython3",
   "version": "3.6.3"
  }
 },
 "nbformat": 4,
 "nbformat_minor": 2
}
