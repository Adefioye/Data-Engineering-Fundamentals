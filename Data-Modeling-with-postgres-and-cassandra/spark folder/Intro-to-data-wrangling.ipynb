{
 "cells": [
  {
   "cell_type": "markdown",
   "metadata": {},
   "source": [
    "## Functions\n",
    "In the previous video, we've used a number of functions to manipulate our dataframe. Let's take a look at the different type of functions and their potential pitfalls.\n",
    "\n",
    "## General functions\n",
    "We have used the following general functions that are quite similar to methods of pandas dataframes:\n",
    "\n",
    "`select()`: returns a new DataFrame with the selected columns\n",
    "\n",
    "`filter()`: filters rows using the given condition\n",
    "\n",
    "`where()`: is just an alias for filter()\n",
    "\n",
    "`groupBy()`: groups the DataFrame using the specified columns, so we can run aggregation on them\n",
    "\n",
    "`sort()`: returns a new DataFrame sorted by the specified column(s). By default the second parameter 'ascending' is True.\n",
    "\n",
    "`dropDuplicates()`: returns a new DataFrame with unique rows based on all or just a subset of columns\n",
    "\n",
    "`withColumn()`: returns a new DataFrame by adding a column or replacing the existing column that has the same name. The first parameter is the name of the new column, the second is an expression of how to compute it.\n",
    "\n",
    "## Aggregate functions\n",
    "Spark SQL provides built-in methods for the most common aggregations such as `count(), countDistinct(), avg(), max(), min()` etc. in the pyspark.sql.functions module. These methods are not the same as the built-in methods in the Python Standard Library, where we can find min() for example as well, hence you need to be careful not to use them interchangeably.\n",
    "\n",
    "In many cases, there are multiple ways to express the same aggregations. For example, if we would like to compute one type of aggregate for one or more columns of the DataFrame we can just simply chain the aggregate method after a `groupBy()`. If we would like to use different functions on different columns, `agg()`comes in handy. For example agg({\"salary\": \"avg\", \"age\": \"max\"}) computes the average salary and maximum age.\n",
    "\n",
    "## User defined functions (UDF)\n",
    "In Spark SQL we can define our own functions with the udf method from the pyspark.sql.functions module. The default type of the returned variable for UDFs is string. If we would like to return an other type we need to explicitly do so by using the different types from the pyspark.sql.types module.\n",
    "\n",
    "## Window functions\n",
    "Window functions are a way of combining the values of ranges of rows in a DataFrame. When defining the window we can choose how to sort and group (with the `partitionBy` method) the rows and how wide of a window we'd like to use (described by `rangeBetween` or `rowsBetween`).\n",
    "\n",
    "For further information see the <a href=\"https://spark.apache.org/docs/latest/sql-programming-guide.html\">Spark SQL, DataFrames and Datasets Guide </a> and <a href=\"https://spark.apache.org/docs/latest/api/python/index.html\">the Spark Python API Docs</a>."
   ]
  },
  {
   "cell_type": "code",
   "execution_count": null,
   "metadata": {},
   "outputs": [],
   "source": []
  }
 ],
 "metadata": {
  "kernelspec": {
   "display_name": "Python 3",
   "language": "python",
   "name": "python3"
  },
  "language_info": {
   "codemirror_mode": {
    "name": "ipython",
    "version": 3
   },
   "file_extension": ".py",
   "mimetype": "text/x-python",
   "name": "python",
   "nbconvert_exporter": "python",
   "pygments_lexer": "ipython3",
   "version": "3.6.3"
  }
 },
 "nbformat": 4,
 "nbformat_minor": 2
}
