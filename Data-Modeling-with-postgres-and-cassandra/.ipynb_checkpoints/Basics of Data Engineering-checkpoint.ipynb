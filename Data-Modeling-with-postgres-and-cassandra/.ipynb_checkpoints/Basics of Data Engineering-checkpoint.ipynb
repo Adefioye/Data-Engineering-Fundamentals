{
 "cells": [
  {
   "cell_type": "markdown",
   "metadata": {},
   "source": [
    "### Common tasks or activities of data engineers"
   ]
  },
  {
   "cell_type": "markdown",
   "metadata": {},
   "source": [
    "- Ingest data from one or multiple sources\n",
    "- Build and maintain a data warehouse\n",
    "- Create a data pipeline\n",
    "- Create an analytic table for a specific use case\n",
    "- Migrate data to the cloud\n",
    "- Schedule and automate pipelines\n",
    "- Backfill data\n",
    "- Debug data quality issues\n",
    "- Optimize queries\n",
    "- Design a database"
   ]
  },
  {
   "cell_type": "markdown",
   "metadata": {},
   "source": [
    "#### What is a Data Model?\n",
    "\n",
    "Data model is an abstraction that organizes elements of data and how they relate to each other.\n",
    "\n",
    "Data modeling is a process to support both your business and your user applications.\n",
    "\n",
    "LOgical modelling is process of mapping conceptual data models to logical models using the concept of schema, columns and tables.\n",
    "\n",
    "Physical data modelling has to do with the transformation of logical data models to databases DDL. This allows for the creation of physical tables, schemas and columns.\n",
    "\n",
    "A relational databse is a digital database based on the relational model(this is a model that organizes data in rows and columns). RDBMS is the software system used to maintain relational databases.\n",
    "\n",
    "Database/schema is a collection of tables.\n",
    "\n",
    "Tables/relation is a group of rows with the same labelled elements.\n",
    "\n",
    "Columns/attributes are labelled elements of a table.\n",
    "\n",
    "Rows/tuple is a single item in a table.\n",
    "\n",
    "\n",
    "#### Advantages of using a relational database\n",
    "\n",
    "- Ease of use \n",
    "- Ability to do JOINS \n",
    "- Ability to do aggregations and analytics\n",
    "- Smaller data volumes\n",
    "- Easier to change business requirements(this happens through the ease of ad hoc queries)\n",
    "- Flexibility of queries\n",
    "- Modeling the data not modeling queries\n",
    "- Allows for the use of secondary indexes\n",
    "- ACID transactions(data integrity)\n",
    "\n",
    "ACID transactions are properties of database transactions that guarantee validity even in the event of errors/power failures.\n",
    "\n",
    "**Atomicity**, the whole transaction is processed or nothing is processed at all.\n",
    "**Consistency**, means only transactions that abide by rules and constraints are written into a database otherwise database keeps previous state. \n",
    "**Isolation**, means transactions are processed independently and securely, order does not matter.\n",
    "**Durability** means completed transactions are saved in the database even in event of system failure."
   ]
  },
  {
   "cell_type": "markdown",
   "metadata": {},
   "source": [
    "#### When not to use a relational database\n",
    "\n",
    "- Need to store large amounts of data\n",
    "- Need to store different data type formats\n",
    "- Need high through-put -- fast reads\n",
    "- Need flexible schema\n",
    "- Need high availability\n",
    "- Need to scale horizontally\n",
    "\n",
    "*High availability* describes a database with very little downtime. that is, it is always **functioning** and **on**.\n",
    "*Horizontal scalability* means adding more servers/ nodes to the system to improve performance."
   ]
  },
  {
   "cell_type": "markdown",
   "metadata": {},
   "source": [
    "OLAP vs OLTP\n",
    "\n",
    "OLAP is optimized for workloads that require complex analytics and ad-hoc queries. These are databases optimized for reads\n",
    "\n",
    "OLTP is optimized for workloads that re"
   ]
  }
 ],
 "metadata": {
  "kernelspec": {
   "display_name": "Python 3",
   "language": "python",
   "name": "python3"
  },
  "language_info": {
   "codemirror_mode": {
    "name": "ipython",
    "version": 3
   },
   "file_extension": ".py",
   "mimetype": "text/x-python",
   "name": "python",
   "nbconvert_exporter": "python",
   "pygments_lexer": "ipython3",
   "version": "3.7.6"
  }
 },
 "nbformat": 4,
 "nbformat_minor": 4
}
